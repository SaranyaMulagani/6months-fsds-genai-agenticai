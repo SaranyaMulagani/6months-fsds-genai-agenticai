{
  "nbformat": 4,
  "nbformat_minor": 0,
  "metadata": {
    "colab": {
      "provenance": [],
      "authorship_tag": "ABX9TyNzXZuCRjoZiAHkBDrxXqw/",
      "include_colab_link": true
    },
    "kernelspec": {
      "name": "python3",
      "display_name": "Python 3"
    },
    "language_info": {
      "name": "python"
    }
  },
  "cells": [
    {
      "cell_type": "markdown",
      "metadata": {
        "id": "view-in-github",
        "colab_type": "text"
      },
      "source": [
        "<a href=\"https://colab.research.google.com/github/SaranyaMulagani/6months-fsds-genai-agenticai/blob/main/Numpy.ipynb\" target=\"_parent\"><img src=\"https://colab.research.google.com/assets/colab-badge.svg\" alt=\"Open In Colab\"/></a>"
      ]
    },
    {
      "cell_type": "code",
      "execution_count": 1,
      "metadata": {
        "id": "FV-DrSk8T6wK"
      },
      "outputs": [],
      "source": [
        "import numpy as np\n"
      ]
    },
    {
      "cell_type": "code",
      "source": [
        "type(np)"
      ],
      "metadata": {
        "colab": {
          "base_uri": "https://localhost:8080/"
        },
        "id": "ERSwfwpSX6eM",
        "outputId": "7ac61b46-070e-4dee-f089-54d867135091"
      },
      "execution_count": 2,
      "outputs": [
        {
          "output_type": "execute_result",
          "data": {
            "text/plain": [
              "module"
            ]
          },
          "metadata": {},
          "execution_count": 2
        }
      ]
    },
    {
      "cell_type": "code",
      "source": [
        "np.__version__"
      ],
      "metadata": {
        "colab": {
          "base_uri": "https://localhost:8080/",
          "height": 35
        },
        "id": "fsAW2qI9Ygs4",
        "outputId": "2f50e5ea-01af-4afd-f710-1362635864b3"
      },
      "execution_count": 3,
      "outputs": [
        {
          "output_type": "execute_result",
          "data": {
            "text/plain": [
              "'2.0.2'"
            ],
            "application/vnd.google.colaboratory.intrinsic+json": {
              "type": "string"
            }
          },
          "metadata": {},
          "execution_count": 3
        }
      ]
    },
    {
      "cell_type": "code",
      "source": [
        "import sys"
      ],
      "metadata": {
        "id": "_KlXMB43esLx"
      },
      "execution_count": 4,
      "outputs": []
    },
    {
      "cell_type": "code",
      "source": [
        "sys.version"
      ],
      "metadata": {
        "colab": {
          "base_uri": "https://localhost:8080/",
          "height": 35
        },
        "id": "8IEEHXkkeua0",
        "outputId": "5cd54768-b3cf-4e17-fee5-a80cf9961f4c"
      },
      "execution_count": 5,
      "outputs": [
        {
          "output_type": "execute_result",
          "data": {
            "text/plain": [
              "'3.11.13 (main, Jun  4 2025, 08:57:29) [GCC 11.4.0]'"
            ],
            "application/vnd.google.colaboratory.intrinsic+json": {
              "type": "string"
            }
          },
          "metadata": {},
          "execution_count": 5
        }
      ]
    },
    {
      "cell_type": "code",
      "source": [
        "my_list=[0,1,2,3,4,5]"
      ],
      "metadata": {
        "id": "Q1BZMIaMigPf"
      },
      "execution_count": 6,
      "outputs": []
    },
    {
      "cell_type": "code",
      "source": [
        "my_list"
      ],
      "metadata": {
        "colab": {
          "base_uri": "https://localhost:8080/"
        },
        "id": "7NueRz_1ik9c",
        "outputId": "b4064b9f-3564-4f89-fdcb-b142c8d53644"
      },
      "execution_count": 7,
      "outputs": [
        {
          "output_type": "execute_result",
          "data": {
            "text/plain": [
              "[0, 1, 2, 3, 4, 5]"
            ]
          },
          "metadata": {},
          "execution_count": 7
        }
      ]
    },
    {
      "cell_type": "code",
      "source": [
        "type(my_list)"
      ],
      "metadata": {
        "colab": {
          "base_uri": "https://localhost:8080/"
        },
        "id": "MsvZ1bkvkDUR",
        "outputId": "0dd04cf6-1496-4053-f09d-29cc43a0a5e3"
      },
      "execution_count": 8,
      "outputs": [
        {
          "output_type": "execute_result",
          "data": {
            "text/plain": [
              "list"
            ]
          },
          "metadata": {},
          "execution_count": 8
        }
      ]
    },
    {
      "cell_type": "code",
      "source": [
        "arr=np.array(my_list)"
      ],
      "metadata": {
        "id": "99kCxCkOk4GS"
      },
      "execution_count": 9,
      "outputs": []
    },
    {
      "cell_type": "code",
      "source": [
        "type(arr)"
      ],
      "metadata": {
        "colab": {
          "base_uri": "https://localhost:8080/"
        },
        "id": "EfyvSVsrlAcF",
        "outputId": "2d016713-207a-4b67-e18a-ea0e253428db"
      },
      "execution_count": 10,
      "outputs": [
        {
          "output_type": "execute_result",
          "data": {
            "text/plain": [
              "numpy.ndarray"
            ]
          },
          "metadata": {},
          "execution_count": 10
        }
      ]
    },
    {
      "cell_type": "code",
      "source": [
        "arr"
      ],
      "metadata": {
        "colab": {
          "base_uri": "https://localhost:8080/"
        },
        "id": "59J0DN7alZ0C",
        "outputId": "ddf7b0d3-5a28-4ad4-e3a7-081f990df338"
      },
      "execution_count": 11,
      "outputs": [
        {
          "output_type": "execute_result",
          "data": {
            "text/plain": [
              "array([0, 1, 2, 3, 4, 5])"
            ]
          },
          "metadata": {},
          "execution_count": 11
        }
      ]
    },
    {
      "cell_type": "code",
      "source": [
        "np.arange(10)"
      ],
      "metadata": {
        "colab": {
          "base_uri": "https://localhost:8080/"
        },
        "id": "kU80W8DppGvk",
        "outputId": "29dd63a7-9a60-4b04-8823-c6bd4dbda9df"
      },
      "execution_count": 13,
      "outputs": [
        {
          "output_type": "execute_result",
          "data": {
            "text/plain": [
              "array([0, 1, 2, 3, 4, 5, 6, 7, 8, 9])"
            ]
          },
          "metadata": {},
          "execution_count": 13
        }
      ]
    },
    {
      "cell_type": "code",
      "source": [
        "np.arange(10,20)"
      ],
      "metadata": {
        "colab": {
          "base_uri": "https://localhost:8080/"
        },
        "id": "Pxk2LL90tCBK",
        "outputId": "c7e9945a-1f33-4189-862d-af5d660b3a2c"
      },
      "execution_count": 14,
      "outputs": [
        {
          "output_type": "execute_result",
          "data": {
            "text/plain": [
              "array([10, 11, 12, 13, 14, 15, 16, 17, 18, 19])"
            ]
          },
          "metadata": {},
          "execution_count": 14
        }
      ]
    },
    {
      "cell_type": "code",
      "source": [
        "np.arange(10,25,3)"
      ],
      "metadata": {
        "colab": {
          "base_uri": "https://localhost:8080/"
        },
        "id": "YLciPKnEtJO_",
        "outputId": "e75c30da-f2dd-4606-dbb3-1d41e02b38ae"
      },
      "execution_count": 15,
      "outputs": [
        {
          "output_type": "execute_result",
          "data": {
            "text/plain": [
              "array([10, 13, 16, 19, 22])"
            ]
          },
          "metadata": {},
          "execution_count": 15
        }
      ]
    },
    {
      "cell_type": "code",
      "source": [
        "np.arange(20,8)"
      ],
      "metadata": {
        "colab": {
          "base_uri": "https://localhost:8080/"
        },
        "id": "QwmlTSwVtOp4",
        "outputId": "60d4532d-04c4-410c-ff47-590f9a120a5c"
      },
      "execution_count": 16,
      "outputs": [
        {
          "output_type": "execute_result",
          "data": {
            "text/plain": [
              "array([], dtype=int64)"
            ]
          },
          "metadata": {},
          "execution_count": 16
        }
      ]
    },
    {
      "cell_type": "code",
      "source": [
        "np.arange(-2,18,3)"
      ],
      "metadata": {
        "colab": {
          "base_uri": "https://localhost:8080/"
        },
        "id": "G1_9VFt_tSs8",
        "outputId": "378be5c7-2a16-4d45-d23f-3c51ef4091d9"
      },
      "execution_count": 18,
      "outputs": [
        {
          "output_type": "execute_result",
          "data": {
            "text/plain": [
              "array([-2,  1,  4,  7, 10, 13, 16])"
            ]
          },
          "metadata": {},
          "execution_count": 18
        }
      ]
    },
    {
      "cell_type": "code",
      "source": [
        "np.arange(1,20,3,5)"
      ],
      "metadata": {
        "colab": {
          "base_uri": "https://localhost:8080/",
          "height": 141
        },
        "id": "5Fu8_aXBtzJ9",
        "outputId": "b792451e-aa25-49cd-af2e-9b29a7fecf6e"
      },
      "execution_count": 19,
      "outputs": [
        {
          "output_type": "error",
          "ename": "TypeError",
          "evalue": "Cannot interpret '5' as a data type",
          "traceback": [
            "\u001b[0;31m---------------------------------------------------------------------------\u001b[0m",
            "\u001b[0;31mTypeError\u001b[0m                                 Traceback (most recent call last)",
            "\u001b[0;32m/tmp/ipython-input-19-4247423679.py\u001b[0m in \u001b[0;36m<cell line: 0>\u001b[0;34m()\u001b[0m\n\u001b[0;32m----> 1\u001b[0;31m \u001b[0mnp\u001b[0m\u001b[0;34m.\u001b[0m\u001b[0marange\u001b[0m\u001b[0;34m(\u001b[0m\u001b[0;36m1\u001b[0m\u001b[0;34m,\u001b[0m\u001b[0;36m20\u001b[0m\u001b[0;34m,\u001b[0m\u001b[0;36m3\u001b[0m\u001b[0;34m,\u001b[0m\u001b[0;36m5\u001b[0m\u001b[0;34m)\u001b[0m\u001b[0;34m\u001b[0m\u001b[0;34m\u001b[0m\u001b[0m\n\u001b[0m",
            "\u001b[0;31mTypeError\u001b[0m: Cannot interpret '5' as a data type"
          ]
        }
      ]
    },
    {
      "cell_type": "code",
      "source": [
        "np.zeros(3)"
      ],
      "metadata": {
        "colab": {
          "base_uri": "https://localhost:8080/"
        },
        "id": "eiz3GXiAt4vZ",
        "outputId": "dd17f261-4f2f-41c3-e996-65e613e6ed24"
      },
      "execution_count": 20,
      "outputs": [
        {
          "output_type": "execute_result",
          "data": {
            "text/plain": [
              "array([0., 0., 0.])"
            ]
          },
          "metadata": {},
          "execution_count": 20
        }
      ]
    },
    {
      "cell_type": "code",
      "source": [
        "np.zeros(5)"
      ],
      "metadata": {
        "colab": {
          "base_uri": "https://localhost:8080/"
        },
        "id": "iksH21ijt9aI",
        "outputId": "7d38472c-e10b-40bd-adb4-1f175d70a642"
      },
      "execution_count": 21,
      "outputs": [
        {
          "output_type": "execute_result",
          "data": {
            "text/plain": [
              "array([0., 0., 0., 0., 0.])"
            ]
          },
          "metadata": {},
          "execution_count": 21
        }
      ]
    },
    {
      "cell_type": "code",
      "source": [
        "np.zeros(3 ,dtype=int)"
      ],
      "metadata": {
        "colab": {
          "base_uri": "https://localhost:8080/"
        },
        "id": "E5xFssh4t9pW",
        "outputId": "a7f4b023-4a40-4aa0-df47-42341825618a"
      },
      "execution_count": 22,
      "outputs": [
        {
          "output_type": "execute_result",
          "data": {
            "text/plain": [
              "array([0, 0, 0])"
            ]
          },
          "metadata": {},
          "execution_count": 22
        }
      ]
    },
    {
      "cell_type": "code",
      "source": [
        "np.zeros((3,2))"
      ],
      "metadata": {
        "colab": {
          "base_uri": "https://localhost:8080/"
        },
        "id": "1siKL7aEt9z1",
        "outputId": "39868c44-63f0-430e-f86a-31701fcc705e"
      },
      "execution_count": 23,
      "outputs": [
        {
          "output_type": "execute_result",
          "data": {
            "text/plain": [
              "array([[0., 0.],\n",
              "       [0., 0.],\n",
              "       [0., 0.]])"
            ]
          },
          "metadata": {},
          "execution_count": 23
        }
      ]
    },
    {
      "cell_type": "code",
      "source": [
        "nd=np.zeros((5,9),dtype = int)\n",
        "nd"
      ],
      "metadata": {
        "colab": {
          "base_uri": "https://localhost:8080/"
        },
        "id": "eDDtdH9qxicv",
        "outputId": "e63a98fd-681f-4658-ff5e-76f32f0a7abe"
      },
      "execution_count": 25,
      "outputs": [
        {
          "output_type": "execute_result",
          "data": {
            "text/plain": [
              "array([[0, 0, 0, 0, 0, 0, 0, 0, 0],\n",
              "       [0, 0, 0, 0, 0, 0, 0, 0, 0],\n",
              "       [0, 0, 0, 0, 0, 0, 0, 0, 0],\n",
              "       [0, 0, 0, 0, 0, 0, 0, 0, 0],\n",
              "       [0, 0, 0, 0, 0, 0, 0, 0, 0]])"
            ]
          },
          "metadata": {},
          "execution_count": 25
        }
      ]
    },
    {
      "cell_type": "code",
      "source": [
        "np.ones(3,dtype=int)"
      ],
      "metadata": {
        "colab": {
          "base_uri": "https://localhost:8080/"
        },
        "id": "106Y-7p_xiqK",
        "outputId": "59ccd118-6df9-4908-92be-fb0a37f8ee9c"
      },
      "execution_count": 26,
      "outputs": [
        {
          "output_type": "execute_result",
          "data": {
            "text/plain": [
              "array([1, 1, 1])"
            ]
          },
          "metadata": {},
          "execution_count": 26
        }
      ]
    },
    {
      "cell_type": "code",
      "source": [
        "nd1 =np.ones((10,10),dtype=int)\n",
        "nd1"
      ],
      "metadata": {
        "colab": {
          "base_uri": "https://localhost:8080/"
        },
        "id": "6cJOxuItyJ82",
        "outputId": "e26c9ca1-e198-461a-ac10-c76b6071a99d"
      },
      "execution_count": 28,
      "outputs": [
        {
          "output_type": "execute_result",
          "data": {
            "text/plain": [
              "array([[1, 1, 1, 1, 1, 1, 1, 1, 1, 1],\n",
              "       [1, 1, 1, 1, 1, 1, 1, 1, 1, 1],\n",
              "       [1, 1, 1, 1, 1, 1, 1, 1, 1, 1],\n",
              "       [1, 1, 1, 1, 1, 1, 1, 1, 1, 1],\n",
              "       [1, 1, 1, 1, 1, 1, 1, 1, 1, 1],\n",
              "       [1, 1, 1, 1, 1, 1, 1, 1, 1, 1],\n",
              "       [1, 1, 1, 1, 1, 1, 1, 1, 1, 1],\n",
              "       [1, 1, 1, 1, 1, 1, 1, 1, 1, 1],\n",
              "       [1, 1, 1, 1, 1, 1, 1, 1, 1, 1],\n",
              "       [1, 1, 1, 1, 1, 1, 1, 1, 1, 1]])"
            ]
          },
          "metadata": {},
          "execution_count": 28
        }
      ]
    },
    {
      "cell_type": "code",
      "source": [
        "np.t"
      ],
      "metadata": {
        "id": "DRRbGD-hysOD"
      },
      "execution_count": null,
      "outputs": []
    },
    {
      "cell_type": "code",
      "source": [
        "import numpy as np\n",
        "np.random.rand(2)"
      ],
      "metadata": {
        "colab": {
          "base_uri": "https://localhost:8080/"
        },
        "id": "6Djdy8RMysUl",
        "outputId": "f7f750a2-cca8-4436-8b3e-1d6d6a360478"
      },
      "execution_count": 1,
      "outputs": [
        {
          "output_type": "execute_result",
          "data": {
            "text/plain": [
              "array([0.89617083, 0.84195229])"
            ]
          },
          "metadata": {},
          "execution_count": 1
        }
      ]
    },
    {
      "cell_type": "code",
      "source": [
        "np.random.randint(4) # prints from 1 to 3 except 4"
      ],
      "metadata": {
        "colab": {
          "base_uri": "https://localhost:8080/"
        },
        "id": "p-8O6e-0yscu",
        "outputId": "d8a85a36-4052-4af1-b54b-84637dc674e8"
      },
      "execution_count": 11,
      "outputs": [
        {
          "output_type": "execute_result",
          "data": {
            "text/plain": [
              "1"
            ]
          },
          "metadata": {},
          "execution_count": 11
        }
      ]
    },
    {
      "cell_type": "code",
      "source": [
        "np.random.randint(2,10)#2 is inclusive 10 exclusive"
      ],
      "metadata": {
        "colab": {
          "base_uri": "https://localhost:8080/"
        },
        "id": "NQr_J2thysj4",
        "outputId": "40921e3e-e69f-4cba-9d6e-a92b7efbc6ad"
      },
      "execution_count": 23,
      "outputs": [
        {
          "output_type": "execute_result",
          "data": {
            "text/plain": [
              "4"
            ]
          },
          "metadata": {},
          "execution_count": 23
        }
      ]
    },
    {
      "cell_type": "code",
      "source": [
        "np.random.randint(2,10,2) #generates 2 random numbers between 2 to 10 , 10 is exclusive"
      ],
      "metadata": {
        "colab": {
          "base_uri": "https://localhost:8080/"
        },
        "id": "EI2bNDS6zU5H",
        "outputId": "cad0159a-9d49-4337-f4ac-917931350b33"
      },
      "execution_count": 27,
      "outputs": [
        {
          "output_type": "execute_result",
          "data": {
            "text/plain": [
              "array([2, 8])"
            ]
          },
          "metadata": {},
          "execution_count": 27
        }
      ]
    },
    {
      "cell_type": "code",
      "source": [
        "np.random.randint(2,10,4) #generates 4 random numbers bw 2 to 10 , 10 iis exclusive"
      ],
      "metadata": {
        "colab": {
          "base_uri": "https://localhost:8080/"
        },
        "id": "ZgaKCaSLzjbW",
        "outputId": "8ba8f27f-39b9-473c-a2fc-55888cd0611a"
      },
      "execution_count": 28,
      "outputs": [
        {
          "output_type": "execute_result",
          "data": {
            "text/plain": [
              "array([9, 5, 5, 4])"
            ]
          },
          "metadata": {},
          "execution_count": 28
        }
      ]
    },
    {
      "cell_type": "code",
      "source": [
        "np.random.randint(10,40,(10,10)) # generates 10*10 matrix"
      ],
      "metadata": {
        "colab": {
          "base_uri": "https://localhost:8080/"
        },
        "id": "L0wwCz96zwuH",
        "outputId": "1a26dc74-c492-45b3-a45b-e9bcc0afb2d4"
      },
      "execution_count": 30,
      "outputs": [
        {
          "output_type": "execute_result",
          "data": {
            "text/plain": [
              "array([[25, 38, 38, 33, 12, 14, 19, 30, 26, 16],\n",
              "       [31, 36, 37, 33, 38, 28, 12, 23, 35, 34],\n",
              "       [19, 26, 27, 28, 25, 24, 14, 26, 37, 30],\n",
              "       [19, 29, 17, 25, 39, 30, 31, 27, 23, 11],\n",
              "       [39, 23, 37, 28, 35, 18, 13, 28, 23, 32],\n",
              "       [30, 20, 29, 16, 15, 20, 28, 24, 24, 22],\n",
              "       [28, 34, 12, 26, 32, 37, 37, 20, 30, 35],\n",
              "       [21, 33, 35, 20, 35, 26, 27, 34, 21, 37],\n",
              "       [35, 34, 19, 26, 18, 18, 17, 31, 24, 30],\n",
              "       [29, 31, 18, 34, 33, 33, 34, 18, 22, 23]])"
            ]
          },
          "metadata": {},
          "execution_count": 30
        }
      ]
    },
    {
      "cell_type": "code",
      "source": [
        "m=np.random.randint(10,40,(10,10)) # generates 10*10 matrix"
      ],
      "metadata": {
        "id": "ZR1HgwEe0Z2a"
      },
      "execution_count": 31,
      "outputs": []
    },
    {
      "cell_type": "code",
      "source": [
        "m"
      ],
      "metadata": {
        "colab": {
          "base_uri": "https://localhost:8080/"
        },
        "id": "gX6-1I060b5G",
        "outputId": "508d1709-fe39-4f3e-dd75-5f0d6b168039"
      },
      "execution_count": 32,
      "outputs": [
        {
          "output_type": "execute_result",
          "data": {
            "text/plain": [
              "array([[14, 31, 24, 31, 24, 29, 16, 30, 15, 34],\n",
              "       [31, 38, 19, 27, 35, 31, 27, 14, 17, 24],\n",
              "       [31, 20, 24, 16, 12, 22, 29, 39, 18, 26],\n",
              "       [33, 38, 14, 38, 28, 39, 28, 26, 30, 29],\n",
              "       [29, 18, 38, 36, 28, 36, 28, 24, 12, 30],\n",
              "       [38, 33, 25, 30, 29, 20, 24, 20, 17, 28],\n",
              "       [35, 33, 35, 14, 28, 30, 21, 10, 26, 36],\n",
              "       [14, 19, 12, 35, 25, 34, 23, 33, 39, 29],\n",
              "       [19, 32, 12, 38, 10, 18, 15, 36, 12, 13],\n",
              "       [15, 30, 34, 23, 27, 21, 30, 33, 23, 35]])"
            ]
          },
          "metadata": {},
          "execution_count": 32
        }
      ]
    },
    {
      "cell_type": "code",
      "source": [
        "arr=np.array([1,2,3,4,5,6])"
      ],
      "metadata": {
        "id": "OCcFihMs0ji5"
      },
      "execution_count": 38,
      "outputs": []
    },
    {
      "cell_type": "code",
      "source": [
        "arr"
      ],
      "metadata": {
        "colab": {
          "base_uri": "https://localhost:8080/"
        },
        "id": "kPlrsM4J06l2",
        "outputId": "82dcd982-8620-43f1-8c06-8b3f3602eb7f"
      },
      "execution_count": 39,
      "outputs": [
        {
          "output_type": "execute_result",
          "data": {
            "text/plain": [
              "array([1, 2, 3, 4, 5, 6])"
            ]
          },
          "metadata": {},
          "execution_count": 39
        }
      ]
    },
    {
      "cell_type": "code",
      "source": [
        "arr.reshape(3,2)"
      ],
      "metadata": {
        "colab": {
          "base_uri": "https://localhost:8080/"
        },
        "id": "jBYIMmH50_6O",
        "outputId": "b1b135e9-4957-4cdf-a63d-81e44afea25e"
      },
      "execution_count": 41,
      "outputs": [
        {
          "output_type": "execute_result",
          "data": {
            "text/plain": [
              "array([[1, 2],\n",
              "       [3, 4],\n",
              "       [5, 6]])"
            ]
          },
          "metadata": {},
          "execution_count": 41
        }
      ]
    },
    {
      "cell_type": "code",
      "source": [
        "arr.reshape(6,1)"
      ],
      "metadata": {
        "colab": {
          "base_uri": "https://localhost:8080/"
        },
        "id": "r4MQlv331QGe",
        "outputId": "cb26fde6-e3f3-4cc1-9cfe-5240fdf662de"
      },
      "execution_count": 42,
      "outputs": [
        {
          "output_type": "execute_result",
          "data": {
            "text/plain": [
              "array([[1],\n",
              "       [2],\n",
              "       [3],\n",
              "       [4],\n",
              "       [5],\n",
              "       [6]])"
            ]
          },
          "metadata": {},
          "execution_count": 42
        }
      ]
    },
    {
      "cell_type": "code",
      "source": [
        "m"
      ],
      "metadata": {
        "colab": {
          "base_uri": "https://localhost:8080/"
        },
        "id": "kfGP688T1Ugf",
        "outputId": "6e6239cb-68b6-440e-af24-fece90bd8a92"
      },
      "execution_count": 43,
      "outputs": [
        {
          "output_type": "execute_result",
          "data": {
            "text/plain": [
              "array([[14, 31, 24, 31, 24, 29, 16, 30, 15, 34],\n",
              "       [31, 38, 19, 27, 35, 31, 27, 14, 17, 24],\n",
              "       [31, 20, 24, 16, 12, 22, 29, 39, 18, 26],\n",
              "       [33, 38, 14, 38, 28, 39, 28, 26, 30, 29],\n",
              "       [29, 18, 38, 36, 28, 36, 28, 24, 12, 30],\n",
              "       [38, 33, 25, 30, 29, 20, 24, 20, 17, 28],\n",
              "       [35, 33, 35, 14, 28, 30, 21, 10, 26, 36],\n",
              "       [14, 19, 12, 35, 25, 34, 23, 33, 39, 29],\n",
              "       [19, 32, 12, 38, 10, 18, 15, 36, 12, 13],\n",
              "       [15, 30, 34, 23, 27, 21, 30, 33, 23, 35]])"
            ]
          },
          "metadata": {},
          "execution_count": 43
        }
      ]
    },
    {
      "cell_type": "code",
      "source": [
        "b=np.random.randint(10,20,(5,4))\n",
        "b"
      ],
      "metadata": {
        "colab": {
          "base_uri": "https://localhost:8080/"
        },
        "id": "DFJ7P3XO1gMi",
        "outputId": "7c896dfb-78ca-49e3-d5d6-e3130e2b3adb"
      },
      "execution_count": 44,
      "outputs": [
        {
          "output_type": "execute_result",
          "data": {
            "text/plain": [
              "array([[16, 18, 17, 11],\n",
              "       [13, 15, 17, 17],\n",
              "       [13, 16, 12, 14],\n",
              "       [10, 19, 17, 16],\n",
              "       [14, 13, 12, 12]])"
            ]
          },
          "metadata": {},
          "execution_count": 44
        }
      ]
    },
    {
      "cell_type": "code",
      "source": [
        "b[:]"
      ],
      "metadata": {
        "colab": {
          "base_uri": "https://localhost:8080/"
        },
        "id": "w-A1k9kt12ZS",
        "outputId": "7579e148-8950-4f6e-f3ae-fd3d325ffede"
      },
      "execution_count": 45,
      "outputs": [
        {
          "output_type": "execute_result",
          "data": {
            "text/plain": [
              "array([[16, 18, 17, 11],\n",
              "       [13, 15, 17, 17],\n",
              "       [13, 16, 12, 14],\n",
              "       [10, 19, 17, 16],\n",
              "       [14, 13, 12, 12]])"
            ]
          },
          "metadata": {},
          "execution_count": 45
        }
      ]
    },
    {
      "cell_type": "code",
      "source": [
        "b[1:4] # gets 1,2,3 rows"
      ],
      "metadata": {
        "colab": {
          "base_uri": "https://localhost:8080/"
        },
        "id": "1LjwDByt18ci",
        "outputId": "e57eda66-ba4b-443a-95dc-60b585a668cc"
      },
      "execution_count": 46,
      "outputs": [
        {
          "output_type": "execute_result",
          "data": {
            "text/plain": [
              "array([[13, 15, 17, 17],\n",
              "       [13, 16, 12, 14],\n",
              "       [10, 19, 17, 16]])"
            ]
          },
          "metadata": {},
          "execution_count": 46
        }
      ]
    },
    {
      "cell_type": "code",
      "source": [
        "b[-1:]"
      ],
      "metadata": {
        "colab": {
          "base_uri": "https://localhost:8080/"
        },
        "id": "y3OoGce518fh",
        "outputId": "103750f3-bd0a-4d72-81fc-871b13b3a207"
      },
      "execution_count": 47,
      "outputs": [
        {
          "output_type": "execute_result",
          "data": {
            "text/plain": [
              "array([[14, 13, 12, 12]])"
            ]
          },
          "metadata": {},
          "execution_count": 47
        }
      ]
    },
    {
      "cell_type": "code",
      "source": [
        "b[:-1]"
      ],
      "metadata": {
        "colab": {
          "base_uri": "https://localhost:8080/"
        },
        "id": "vbVPKYaf2ogy",
        "outputId": "3bde037e-1266-45bf-d185-5f6314292147"
      },
      "execution_count": 48,
      "outputs": [
        {
          "output_type": "execute_result",
          "data": {
            "text/plain": [
              "array([[16, 18, 17, 11],\n",
              "       [13, 15, 17, 17],\n",
              "       [13, 16, 12, 14],\n",
              "       [10, 19, 17, 16]])"
            ]
          },
          "metadata": {},
          "execution_count": 48
        }
      ]
    },
    {
      "cell_type": "code",
      "source": [
        "b[:-2]"
      ],
      "metadata": {
        "colab": {
          "base_uri": "https://localhost:8080/"
        },
        "id": "2nXB5Cix2omE",
        "outputId": "19bef45c-93d0-4803-a8d7-08fe9cdd05a0"
      },
      "execution_count": 49,
      "outputs": [
        {
          "output_type": "execute_result",
          "data": {
            "text/plain": [
              "array([[16, 18, 17, 11],\n",
              "       [13, 15, 17, 17],\n",
              "       [13, 16, 12, 14]])"
            ]
          },
          "metadata": {},
          "execution_count": 49
        }
      ]
    },
    {
      "cell_type": "code",
      "source": [
        "b[1:4]"
      ],
      "metadata": {
        "colab": {
          "base_uri": "https://localhost:8080/"
        },
        "id": "X1AS0_qf2opL",
        "outputId": "f76805aa-cd6f-4040-a00c-7536df341125"
      },
      "execution_count": 50,
      "outputs": [
        {
          "output_type": "execute_result",
          "data": {
            "text/plain": [
              "array([[13, 15, 17, 17],\n",
              "       [13, 16, 12, 14],\n",
              "       [10, 19, 17, 16]])"
            ]
          },
          "metadata": {},
          "execution_count": 50
        }
      ]
    },
    {
      "cell_type": "code",
      "source": [
        "b[1,-1]"
      ],
      "metadata": {
        "colab": {
          "base_uri": "https://localhost:8080/"
        },
        "id": "9x39g9Dj3zeY",
        "outputId": "c82dc83f-b1fc-497a-b210-ddca6206f297"
      },
      "execution_count": 53,
      "outputs": [
        {
          "output_type": "execute_result",
          "data": {
            "text/plain": [
              "np.int64(17)"
            ]
          },
          "metadata": {},
          "execution_count": 53
        }
      ]
    },
    {
      "cell_type": "code",
      "source": [
        "b[1,2]"
      ],
      "metadata": {
        "colab": {
          "base_uri": "https://localhost:8080/"
        },
        "id": "ajWWHjO_3Txk",
        "outputId": "43e05f3b-9fb8-404d-c688-44609d0e2163"
      },
      "execution_count": 51,
      "outputs": [
        {
          "output_type": "execute_result",
          "data": {
            "text/plain": [
              "np.int64(17)"
            ]
          },
          "metadata": {},
          "execution_count": 51
        }
      ]
    },
    {
      "cell_type": "code",
      "source": [
        "b[1,3]"
      ],
      "metadata": {
        "colab": {
          "base_uri": "https://localhost:8080/"
        },
        "id": "Z-u_ZZYI3oFQ",
        "outputId": "868c7656-df48-4933-90aa-6a2ffc06a141"
      },
      "execution_count": 52,
      "outputs": [
        {
          "output_type": "execute_result",
          "data": {
            "text/plain": [
              "np.int64(17)"
            ]
          },
          "metadata": {},
          "execution_count": 52
        }
      ]
    },
    {
      "cell_type": "code",
      "source": [
        "arr"
      ],
      "metadata": {
        "colab": {
          "base_uri": "https://localhost:8080/"
        },
        "id": "XCfNFZZx4POg",
        "outputId": "b6c72e65-acfd-4802-a83a-4bb842d15a4b"
      },
      "execution_count": 54,
      "outputs": [
        {
          "output_type": "execute_result",
          "data": {
            "text/plain": [
              "array([1, 2, 3, 4, 5, 6])"
            ]
          },
          "metadata": {},
          "execution_count": 54
        }
      ]
    },
    {
      "cell_type": "code",
      "source": [
        "arr.max()"
      ],
      "metadata": {
        "colab": {
          "base_uri": "https://localhost:8080/"
        },
        "id": "_eNuYnwz4T37",
        "outputId": "e255c4ef-494e-4406-cf34-b1f13d7da1f0"
      },
      "execution_count": 55,
      "outputs": [
        {
          "output_type": "execute_result",
          "data": {
            "text/plain": [
              "np.int64(6)"
            ]
          },
          "metadata": {},
          "execution_count": 55
        }
      ]
    },
    {
      "cell_type": "code",
      "source": [
        "mat = np.random.randint(0,100,(10,10))\n",
        "mat"
      ],
      "metadata": {
        "colab": {
          "base_uri": "https://localhost:8080/"
        },
        "id": "ARbVnSo84anB",
        "outputId": "9f3ee2f9-f429-4517-b817-27409fe3029f"
      },
      "execution_count": 56,
      "outputs": [
        {
          "output_type": "execute_result",
          "data": {
            "text/plain": [
              "array([[95, 38, 32, 92, 53, 49, 54, 49, 67, 54],\n",
              "       [28, 87, 65, 59, 97, 30, 93, 18, 32, 86],\n",
              "       [53, 48, 41, 54, 54,  0,  2, 85, 65, 14],\n",
              "       [67, 71, 59, 29, 85,  2, 70, 62, 36, 57],\n",
              "       [67, 51, 33, 18, 44, 88, 64, 89, 87, 62],\n",
              "       [64, 72,  8, 77, 70, 48, 77, 62, 94, 25],\n",
              "       [10, 41, 49, 57, 79, 25, 99, 19, 14, 68],\n",
              "       [11, 85, 40, 56, 20, 78, 35,  4, 53, 93],\n",
              "       [61,  2, 28, 98, 36, 49, 33, 64, 17, 87],\n",
              "       [75, 52, 11, 78,  3, 78, 45, 91, 46,  7]])"
            ]
          },
          "metadata": {},
          "execution_count": 56
        }
      ]
    },
    {
      "cell_type": "code",
      "source": [
        "row=6\n",
        "col=4"
      ],
      "metadata": {
        "id": "DQAf2ONx5Knb"
      },
      "execution_count": 59,
      "outputs": []
    },
    {
      "cell_type": "code",
      "source": [
        "mat[row,col]"
      ],
      "metadata": {
        "colab": {
          "base_uri": "https://localhost:8080/"
        },
        "id": "HuJXi1pn5PiH",
        "outputId": "14a64a05-c3ec-4442-e3dc-e3652f54ab0f"
      },
      "execution_count": 60,
      "outputs": [
        {
          "output_type": "execute_result",
          "data": {
            "text/plain": [
              "np.int64(79)"
            ]
          },
          "metadata": {},
          "execution_count": 60
        }
      ]
    },
    {
      "cell_type": "code",
      "source": [
        "mat[1]"
      ],
      "metadata": {
        "colab": {
          "base_uri": "https://localhost:8080/"
        },
        "id": "gp-TuWAz5yXd",
        "outputId": "547171cc-929b-42d7-efb8-4d59b80de596"
      },
      "execution_count": 61,
      "outputs": [
        {
          "output_type": "execute_result",
          "data": {
            "text/plain": [
              "array([28, 87, 65, 59, 97, 30, 93, 18, 32, 86])"
            ]
          },
          "metadata": {},
          "execution_count": 61
        }
      ]
    },
    {
      "cell_type": "code",
      "source": [
        "mat[:,col]"
      ],
      "metadata": {
        "colab": {
          "base_uri": "https://localhost:8080/"
        },
        "id": "n0WeC-_152cy",
        "outputId": "4159947a-fa23-4b4c-bcb5-4e124043ec53"
      },
      "execution_count": 62,
      "outputs": [
        {
          "output_type": "execute_result",
          "data": {
            "text/plain": [
              "array([53, 97, 54, 85, 44, 70, 79, 20, 36,  3])"
            ]
          },
          "metadata": {},
          "execution_count": 62
        }
      ]
    },
    {
      "cell_type": "code",
      "source": [
        "mat[::-1]"
      ],
      "metadata": {
        "colab": {
          "base_uri": "https://localhost:8080/"
        },
        "id": "bk4qQslh6hEB",
        "outputId": "076da991-cf96-41a2-f09a-0e7a3a81d4a2"
      },
      "execution_count": 63,
      "outputs": [
        {
          "output_type": "execute_result",
          "data": {
            "text/plain": [
              "array([[75, 52, 11, 78,  3, 78, 45, 91, 46,  7],\n",
              "       [61,  2, 28, 98, 36, 49, 33, 64, 17, 87],\n",
              "       [11, 85, 40, 56, 20, 78, 35,  4, 53, 93],\n",
              "       [10, 41, 49, 57, 79, 25, 99, 19, 14, 68],\n",
              "       [64, 72,  8, 77, 70, 48, 77, 62, 94, 25],\n",
              "       [67, 51, 33, 18, 44, 88, 64, 89, 87, 62],\n",
              "       [67, 71, 59, 29, 85,  2, 70, 62, 36, 57],\n",
              "       [53, 48, 41, 54, 54,  0,  2, 85, 65, 14],\n",
              "       [28, 87, 65, 59, 97, 30, 93, 18, 32, 86],\n",
              "       [95, 38, 32, 92, 53, 49, 54, 49, 67, 54]])"
            ]
          },
          "metadata": {},
          "execution_count": 63
        }
      ]
    },
    {
      "cell_type": "code",
      "source": [
        "mat[::-2]"
      ],
      "metadata": {
        "colab": {
          "base_uri": "https://localhost:8080/"
        },
        "id": "_2D0Eg576mX_",
        "outputId": "ab620a17-c0f0-409d-a224-30d0072bc097"
      },
      "execution_count": 64,
      "outputs": [
        {
          "output_type": "execute_result",
          "data": {
            "text/plain": [
              "array([[75, 52, 11, 78,  3, 78, 45, 91, 46,  7],\n",
              "       [11, 85, 40, 56, 20, 78, 35,  4, 53, 93],\n",
              "       [64, 72,  8, 77, 70, 48, 77, 62, 94, 25],\n",
              "       [67, 71, 59, 29, 85,  2, 70, 62, 36, 57],\n",
              "       [28, 87, 65, 59, 97, 30, 93, 18, 32, 86]])"
            ]
          },
          "metadata": {},
          "execution_count": 64
        }
      ]
    },
    {
      "cell_type": "code",
      "source": [
        "mat[1:2,2:4]"
      ],
      "metadata": {
        "colab": {
          "base_uri": "https://localhost:8080/"
        },
        "id": "sMCQ3i8s7VSU",
        "outputId": "35aaa054-3853-475e-d0ab-43fd13480bbd"
      },
      "execution_count": 65,
      "outputs": [
        {
          "output_type": "execute_result",
          "data": {
            "text/plain": [
              "array([[65, 59]])"
            ]
          },
          "metadata": {},
          "execution_count": 65
        }
      ]
    },
    {
      "cell_type": "code",
      "source": [
        "mat>40"
      ],
      "metadata": {
        "colab": {
          "base_uri": "https://localhost:8080/"
        },
        "id": "CBwUaOT-7ZAF",
        "outputId": "73158971-fff1-4c74-d5a6-0d7c0878fd06"
      },
      "execution_count": 66,
      "outputs": [
        {
          "output_type": "execute_result",
          "data": {
            "text/plain": [
              "array([[ True, False, False,  True,  True,  True,  True,  True,  True,\n",
              "         True],\n",
              "       [False,  True,  True,  True,  True, False,  True, False, False,\n",
              "         True],\n",
              "       [ True,  True,  True,  True,  True, False, False,  True,  True,\n",
              "        False],\n",
              "       [ True,  True,  True, False,  True, False,  True,  True, False,\n",
              "         True],\n",
              "       [ True,  True, False, False,  True,  True,  True,  True,  True,\n",
              "         True],\n",
              "       [ True,  True, False,  True,  True,  True,  True,  True,  True,\n",
              "        False],\n",
              "       [False,  True,  True,  True,  True, False,  True, False, False,\n",
              "         True],\n",
              "       [False,  True, False,  True, False,  True, False, False,  True,\n",
              "         True],\n",
              "       [ True, False, False,  True, False,  True, False,  True, False,\n",
              "         True],\n",
              "       [ True,  True, False,  True, False,  True,  True,  True,  True,\n",
              "        False]])"
            ]
          },
          "metadata": {},
          "execution_count": 66
        }
      ]
    }
  ]
}